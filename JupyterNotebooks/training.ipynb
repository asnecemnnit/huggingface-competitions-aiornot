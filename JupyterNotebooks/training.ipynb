{
 "cells": [
  {
   "cell_type": "code",
   "execution_count": 50,
   "metadata": {},
   "outputs": [],
   "source": [
    "import csv\n",
    "import os\n",
    "import torchvision\n",
    "import torch.nn as nn\n",
    "import torch\n",
    "import torch.nn.functional as F\n",
    "from torchvision import transforms, models, datasets\n",
    "import matplotlib.pyplot as plt\n",
    "from PIL import Image\n",
    "import numpy as np\n",
    "from torch import optim\n",
    "\n",
    "device = \"cuda\" if torch.cuda.is_available() else \"cpu\"\n",
    "import cv2, glob, numpy as np, pandas as pd\n",
    "import matplotlib.pyplot as plt\n",
    "from glob import glob\n",
    "import torchvision.transforms as transforms\n",
    "from torch.utils.data import DataLoader, Dataset, Subset\n",
    "from torch.utils.data.sampler import SubsetRandomSampler\n",
    "import tkinter as tk\n",
    "from tkinter import filedialog"
   ]
  },
  {
   "cell_type": "code",
   "execution_count": 51,
   "metadata": {},
   "outputs": [
    {
     "name": "stdout",
     "output_type": "stream",
     "text": [
      "C:/Users/u7oh2m/WorkingStudent/Personal/GitHub/aiornot/train\n"
     ]
    }
   ],
   "source": [
    "root = tk.Tk()\n",
    "root.withdraw()\n",
    "\n",
    "TRAIN_DATA_DIR = filedialog.askdirectory(\n",
    "    title=\"Select folder containing images for training\"\n",
    ")\n",
    "print(TRAIN_DATA_DIR)\n",
    "TRAIN_CSV_PATH = \"../train.csv\"\n",
    "MODEL_PATH = \"../model/\"\n",
    "BATCH_SIZE = 32\n",
    "EPOCHS = 6\n",
    "DROPOUT = 0.2\n",
    "VALIDATION_SPLIT = 0.2\n",
    "SEED = 42"
   ]
  },
  {
   "cell_type": "markdown",
   "metadata": {},
   "source": [
    "# Training"
   ]
  },
  {
   "cell_type": "code",
   "execution_count": 52,
   "metadata": {},
   "outputs": [],
   "source": [
    "class ImageData(Dataset):\n",
    "    def __init__(self, folder):\n",
    "        ai_images = []\n",
    "        not_ai_images = []\n",
    "        with open(TRAIN_CSV_PATH, mode=\"r\") as infile:\n",
    "            next(infile)  # Skip the header\n",
    "            reader = csv.reader(infile, skipinitialspace=True)\n",
    "            result = dict(reader)\n",
    "\n",
    "        ai_images = [folder + \"/\" + k for k, v in result.items() if v == \"1\"]\n",
    "        not_ai_images = [\n",
    "            folder + \"/\" + k for k, v in result.items() if v == \"0\"\n",
    "        ]\n",
    "        # print(len(ai_images))\n",
    "        # print(len(not_ai_images))\n",
    "        # print(ai_images[:5])\n",
    "        # print(not_ai_images[:5])\n",
    "\n",
    "        # self.fpaths = ai_images[:500] + not_ai_images[:500]\n",
    "\n",
    "        self.fpaths = ai_images + not_ai_images\n",
    "\n",
    "        self.normalize = transforms.Normalize(\n",
    "            mean=[0.485, 0.456, 0.406], std=[0.229, 0.224, 0.225]\n",
    "        )\n",
    "        from random import shuffle, seed\n",
    "\n",
    "        seed(10)\n",
    "        shuffle(self.fpaths)\n",
    "        self.targets = [\n",
    "            torch.tensor(int(result[fpath.split(\"/\")[-1]]))\n",
    "            for fpath in self.fpaths\n",
    "        ]\n",
    "        self.targets = torch.Tensor(self.targets)\n",
    "        self.targets = nn.functional.one_hot(self.targets.long(), 2)\n",
    "        # print(self.fpaths[:10], self.targets[:10])\n",
    "        # print(len(self.fpaths), len(self.targets))\n",
    "\n",
    "    def __len__(self):\n",
    "        return len(self.fpaths)\n",
    "\n",
    "    def __getitem__(self, ix):\n",
    "        f = self.fpaths[ix]\n",
    "        target = self.targets[ix]\n",
    "        im = cv2.imread(f)[:, :, ::-1]\n",
    "        im = cv2.resize(im, (224, 224))\n",
    "        im = torch.tensor(im / 255)\n",
    "        im = im.permute(2, 0, 1)\n",
    "        im = self.normalize(im)\n",
    "        return im.float().to(device), target.float().to(device)"
   ]
  },
  {
   "cell_type": "code",
   "execution_count": 53,
   "metadata": {},
   "outputs": [],
   "source": [
    "def get_model():\n",
    "    model = models.resnet18(pretrained=True)\n",
    "    for param in model.parameters():\n",
    "        param.requires_grad = False\n",
    "    model.avgpool = nn.AdaptiveAvgPool2d(output_size=(1, 1))\n",
    "    model.fc = nn.Sequential(\n",
    "        nn.Flatten(),\n",
    "        nn.Linear(512, 128),\n",
    "        nn.ReLU(),\n",
    "        nn.Dropout(DROPOUT),\n",
    "        nn.Linear(128, 2),\n",
    "    )\n",
    "    # loss_fn = nn.CrossEntropyLoss()\n",
    "    loss_fn = nn.BCEWithLogitsLoss()\n",
    "    optimizer = torch.optim.Adam(model.parameters(), lr=1e-3)\n",
    "    return model.to(device), loss_fn, optimizer"
   ]
  },
  {
   "cell_type": "code",
   "execution_count": 54,
   "metadata": {},
   "outputs": [
    {
     "name": "stderr",
     "output_type": "stream",
     "text": [
      "c:\\Users\\u7oh2m\\Anaconda3\\envs\\lib\\site-packages\\torchvision\\models\\_utils.py:208: UserWarning: The parameter 'pretrained' is deprecated since 0.13 and may be removed in the future, please use 'weights' instead.\n",
      "  warnings.warn(\n",
      "c:\\Users\\u7oh2m\\Anaconda3\\envs\\lib\\site-packages\\torchvision\\models\\_utils.py:223: UserWarning: Arguments other than a weight enum or `None` for 'weights' are deprecated since 0.13 and may be removed in the future. The current behavior is equivalent to passing `weights=ResNet18_Weights.IMAGENET1K_V1`. You can also use `weights=ResNet18_Weights.DEFAULT` to get the most up-to-date weights.\n",
      "  warnings.warn(msg)\n"
     ]
    }
   ],
   "source": [
    "from torchsummary import summary\n",
    "\n",
    "model, loss_fn, optimizer = get_model()\n",
    "# summary(model, torch.zeros(1,3,224,224))"
   ]
  },
  {
   "cell_type": "code",
   "execution_count": 55,
   "metadata": {},
   "outputs": [],
   "source": [
    "from sklearn.metrics import log_loss\n",
    "\n",
    "\n",
    "def train_batch(x, y, model, opt, loss_fn):\n",
    "    model.train()\n",
    "    prediction = model(x)\n",
    "    batch_loss = loss_fn(prediction, y)\n",
    "    batch_loss.backward()\n",
    "    optimizer.step()\n",
    "    optimizer.zero_grad()\n",
    "    return batch_loss.item()"
   ]
  },
  {
   "cell_type": "code",
   "execution_count": 56,
   "metadata": {},
   "outputs": [],
   "source": [
    "@torch.no_grad()\n",
    "def accuracy(x, y, model):\n",
    "    model.eval()\n",
    "    prediction = model(x)\n",
    "    prediction = torch.argmax(prediction, dim=1)\n",
    "    y = torch.argmax(y, dim=1)\n",
    "    is_correct = prediction == y\n",
    "    return is_correct.cpu().numpy().tolist()"
   ]
  },
  {
   "cell_type": "code",
   "execution_count": 57,
   "metadata": {},
   "outputs": [],
   "source": [
    "from sklearn.model_selection import train_test_split\n",
    "\n",
    "\n",
    "def get_data():\n",
    "    train = ImageData(TRAIN_DATA_DIR)\n",
    "    # generate indices: instead of the actual data we pass in integers instead\n",
    "    train_indices, val_indices, _, _ = train_test_split(\n",
    "        range(len(train)),\n",
    "        train.targets,\n",
    "        stratify=train.targets,\n",
    "        test_size=VALIDATION_SPLIT,\n",
    "        random_state=SEED,\n",
    "    )\n",
    "    # generate subset based on indices\n",
    "    train_split = Subset(train, train_indices)\n",
    "    val_split = Subset(train, val_indices)\n",
    "\n",
    "    # create batches\n",
    "    trn_dl = DataLoader(\n",
    "        train_split, batch_size=BATCH_SIZE, shuffle=True, drop_last=True\n",
    "    )\n",
    "    val_dl = DataLoader(val_split, batch_size=BATCH_SIZE, drop_last=True)\n",
    "\n",
    "    return (\n",
    "        trn_dl,\n",
    "        (1 - VALIDATION_SPLIT) * len(train),\n",
    "        val_dl,\n",
    "        VALIDATION_SPLIT * len(train),\n",
    "    )"
   ]
  },
  {
   "cell_type": "code",
   "execution_count": 58,
   "metadata": {},
   "outputs": [
    {
     "name": "stdout",
     "output_type": "stream",
     "text": [
      "14894.400000000001 3723.6000000000004\n"
     ]
    },
    {
     "name": "stderr",
     "output_type": "stream",
     "text": [
      "c:\\Users\\u7oh2m\\Anaconda3\\envs\\lib\\site-packages\\torchvision\\models\\_utils.py:208: UserWarning: The parameter 'pretrained' is deprecated since 0.13 and may be removed in the future, please use 'weights' instead.\n",
      "  warnings.warn(\n",
      "c:\\Users\\u7oh2m\\Anaconda3\\envs\\lib\\site-packages\\torchvision\\models\\_utils.py:223: UserWarning: Arguments other than a weight enum or `None` for 'weights' are deprecated since 0.13 and may be removed in the future. The current behavior is equivalent to passing `weights=ResNet18_Weights.IMAGENET1K_V1`. You can also use `weights=ResNet18_Weights.DEFAULT` to get the most up-to-date weights.\n",
      "  warnings.warn(msg)\n"
     ]
    }
   ],
   "source": [
    "trn_dl, trn_dl_len, val_dl, val_dl_len = get_data()\n",
    "print(trn_dl_len, val_dl_len)\n",
    "model, loss_fn, optimizer = get_model()\n"
   ]
  },
  {
   "cell_type": "code",
   "execution_count": 59,
   "metadata": {},
   "outputs": [
    {
     "name": "stdout",
     "output_type": "stream",
     "text": [
      " epoch 1/5\n",
      "400.0 training batches remaining\n",
      "300.0 training batches remaining\n",
      "200.0 training batches remaining\n",
      "100.0 training batches remaining\n",
      " epoch 2/5\n",
      "400.0 training batches remaining\n",
      "300.0 training batches remaining\n",
      "200.0 training batches remaining\n",
      "100.0 training batches remaining\n",
      " epoch 3/5\n",
      "400.0 training batches remaining\n",
      "300.0 training batches remaining\n",
      "200.0 training batches remaining\n",
      "100.0 training batches remaining\n",
      " epoch 4/5\n",
      "400.0 training batches remaining\n",
      "300.0 training batches remaining\n",
      "200.0 training batches remaining\n",
      "100.0 training batches remaining\n",
      " epoch 5/5\n",
      "400.0 training batches remaining\n",
      "300.0 training batches remaining\n",
      "200.0 training batches remaining\n",
      "100.0 training batches remaining\n",
      " epoch 6/5\n",
      "400.0 training batches remaining\n",
      "300.0 training batches remaining\n",
      "200.0 training batches remaining\n",
      "100.0 training batches remaining\n"
     ]
    }
   ],
   "source": [
    "n_train_batches = trn_dl_len // BATCH_SIZE\n",
    "n_val_batches = val_dl_len // BATCH_SIZE\n",
    "train_losses, train_accuracies = [], []\n",
    "val_accuracies = []\n",
    "best_val_epoch_accuracy = 0.0\n",
    "for epoch in range(EPOCHS):\n",
    "    n_train_batches_remaining = n_train_batches\n",
    "    print(f\" epoch {epoch + 1}/EPOCHS\")\n",
    "    train_epoch_losses, train_epoch_accuracies = [], []\n",
    "    val_epoch_accuracies = []\n",
    "\n",
    "    for ix, batch in enumerate(iter(trn_dl)):\n",
    "        x, y = batch\n",
    "        batch_loss = train_batch(x, y, model, optimizer, loss_fn)\n",
    "        train_epoch_losses.append(batch_loss)\n",
    "        if n_train_batches_remaining % 100 == 0:\n",
    "            print(n_train_batches_remaining, \"training batches remaining\")\n",
    "        n_train_batches_remaining = n_train_batches_remaining - 1\n",
    "    train_epoch_loss = np.array(train_epoch_losses).mean()\n",
    "\n",
    "    for ix, batch in enumerate(iter(trn_dl)):\n",
    "        x, y = batch\n",
    "        is_correct = accuracy(x, y, model)\n",
    "        train_epoch_accuracies.extend(is_correct)\n",
    "    train_epoch_accuracy = np.mean(train_epoch_accuracies)\n",
    "\n",
    "    for ix, batch in enumerate(iter(val_dl)):\n",
    "        x, y = batch\n",
    "        val_is_correct = accuracy(x, y, model)\n",
    "        val_epoch_accuracies.extend(val_is_correct)\n",
    "    val_epoch_accuracy = np.mean(val_epoch_accuracies)\n",
    "\n",
    "    if val_epoch_accuracy > best_val_epoch_accuracy:\n",
    "        best_val_epoch_accuracy = val_epoch_accuracy\n",
    "        torch.save(model, MODEL_PATH + \"model_resenet18_best_epoch.pt\")\n",
    "\n",
    "    train_losses.append(train_epoch_loss)\n",
    "    train_accuracies.append(train_epoch_accuracy)\n",
    "    val_accuracies.append(val_epoch_accuracy)"
   ]
  },
  {
   "cell_type": "code",
   "execution_count": 60,
   "metadata": {},
   "outputs": [
    {
     "name": "stdout",
     "output_type": "stream",
     "text": [
      "[0.8898521505376344, 0.8885080645161291, 0.9054435483870967, 0.8969758064516129, 0.9141801075268817, 0.9099462365591398]\n",
      "[0.8801185344827587, 0.8766163793103449, 0.8844288793103449, 0.8717672413793104, 0.8884698275862069, 0.8873922413793104]\n"
     ]
    },
    {
     "name": "stderr",
     "output_type": "stream",
     "text": [
      "C:\\Users\\u7oh2m\\AppData\\Local\\Temp\\ipykernel_8108\\2245105633.py:15: UserWarning: FixedFormatter should only be used together with FixedLocator\n",
      "  plt.gca().set_yticklabels(['{:.0f}%'.format(x*100) for x in plt.gca().get_yticks()])\n"
     ]
    },
    {
     "data": {
      "image/png": "[encoded data removed]",
      "text/plain": [
       "<Figure size 640x480 with 1 Axes>"
      ]
     },
     "metadata": {},
     "output_type": "display_data"
    }
   ],
   "source": [
    "epochs = np.arange(EPOCHS)+1\n",
    "import matplotlib.ticker as mtick\n",
    "import matplotlib.pyplot as plt\n",
    "import matplotlib.ticker as mticker\n",
    "print(train_accuracies[:6])\n",
    "print(val_accuracies[:6])\n",
    "%matplotlib inline\n",
    "plt.plot(epochs, train_accuracies, 'bo', label='Training accuracy')\n",
    "plt.plot(epochs, val_accuracies, 'r', label='Validation accuracy')\n",
    "plt.gca().xaxis.set_major_locator(mticker.MultipleLocator(1))\n",
    "plt.title('Training and validation accuracy with ResNet18')\n",
    "plt.xlabel('Epochs')\n",
    "plt.ylabel('Accuracy')\n",
    "# plt.ylim(0.95,1)\n",
    "plt.gca().set_yticklabels(['{:.0f}%'.format(x*100) for x in plt.gca().get_yticks()]) \n",
    "plt.legend()\n",
    "plt.grid('off')\n",
    "plt.show()"
   ]
  },
  {
   "cell_type": "code",
   "execution_count": 61,
   "metadata": {},
   "outputs": [],
   "source": [
    "torch.save(model, MODEL_PATH + \"model_resenet18_last_epoch.pt\")\n"
   ]
  }
 ],
 "metadata": {
  "kernelspec": {
   "display_name": "AptivCV",
   "language": "python",
   "name": "python3"
  },
  "language_info": {
   "codemirror_mode": {
    "name": "ipython",
    "version": 3
   },
   "file_extension": ".py",
   "mimetype": "text/x-python",
   "name": "python",
   "nbconvert_exporter": "python",
   "pygments_lexer": "ipython3",
   "version": "3.9.15"
  },
  "orig_nbformat": 4,
  "vscode": {
   "interpreter": {
    "hash": "93bf447d1c99ef97d0a581a6b1613ec5f4169b443f309f05a70970be609eff92"
   }
  }
 },
 "nbformat": 4,
 "nbformat_minor": 2
}
