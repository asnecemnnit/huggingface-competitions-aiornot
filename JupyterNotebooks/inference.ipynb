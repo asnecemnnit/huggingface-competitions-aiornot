{
 "cells": [
  {
   "cell_type": "code",
   "execution_count": 113,
   "metadata": {},
   "outputs": [],
   "source": [
    "import csv\n",
    "import os\n",
    "import torchvision\n",
    "import torch.nn as nn\n",
    "import torch\n",
    "import torch.nn.functional as F\n",
    "from torchvision import transforms, models, datasets\n",
    "import matplotlib.pyplot as plt\n",
    "from PIL import Image\n",
    "import numpy as np\n",
    "from torch import optim\n",
    "\n",
    "device = \"cuda\" if torch.cuda.is_available() else \"cpu\"\n",
    "import cv2, glob, numpy as np, pandas as pd\n",
    "import matplotlib.pyplot as plt\n",
    "from glob import glob\n",
    "import torchvision.transforms as transforms\n",
    "from torch.utils.data import DataLoader, Dataset, Subset\n",
    "from torch.utils.data.sampler import SubsetRandomSampler\n",
    "import tkinter as tk\n",
    "from tkinter import filedialog\n"
   ]
  },
  {
   "cell_type": "code",
   "execution_count": 114,
   "metadata": {},
   "outputs": [
    {
     "name": "stdout",
     "output_type": "stream",
     "text": [
      "C:/Users/u7oh2m/WorkingStudent/Personal/GitHub/aiornot/test\n"
     ]
    }
   ],
   "source": [
    "root = tk.Tk()\n",
    "root.withdraw()\n",
    "\n",
    "TEST_DATA_DIR = filedialog.askdirectory(\n",
    "    title=\"Select folder containing images for testing\"\n",
    ")\n",
    "print(TEST_DATA_DIR)\n",
    "MODEL_PATH = \"../model/\"\n",
    "BATCH_SIZE = 128\n"
   ]
  },
  {
   "attachments": {},
   "cell_type": "markdown",
   "metadata": {},
   "source": [
    "# Inference"
   ]
  },
  {
   "cell_type": "code",
   "execution_count": 115,
   "metadata": {},
   "outputs": [],
   "source": [
    "model = torch.load(MODEL_PATH + \"model_resenet18_best_epoch.pt\")"
   ]
  },
  {
   "cell_type": "code",
   "execution_count": 116,
   "metadata": {},
   "outputs": [],
   "source": [
    "class ImageTestData(Dataset):\n",
    "    def __init__(self, folder):\n",
    "        test_images = sorted(\n",
    "            glob(folder + \"/\" + \"*.jpg\"),\n",
    "            key=lambda x: int(os.path.splitext(os.path.basename(x))[0]),\n",
    "        )\n",
    "        self.fpaths = test_images\n",
    "        # self.fpaths = test_images[:500]\n",
    "\n",
    "        self.normalize = transforms.Normalize(\n",
    "            mean=[0.485, 0.456, 0.406], std=[0.229, 0.224, 0.225]\n",
    "        )\n",
    "\n",
    "    def __len__(self):\n",
    "        return len(self.fpaths)\n",
    "\n",
    "    def __getitem__(self, ix):\n",
    "        f = self.fpaths[ix]\n",
    "        im = cv2.imread(f)[:, :, ::-1]\n",
    "        im = cv2.resize(im, (224, 224))\n",
    "        im = torch.tensor(im / 255)\n",
    "        im = im.permute(2, 0, 1)\n",
    "        im = self.normalize(im)\n",
    "        return im.float().to(device)"
   ]
  },
  {
   "cell_type": "code",
   "execution_count": 117,
   "metadata": {},
   "outputs": [],
   "source": [
    "test = ImageTestData(TEST_DATA_DIR)\n",
    "test_dl = DataLoader(\n",
    "    test, batch_size=BATCH_SIZE, shuffle=False, drop_last=False\n",
    ")"
   ]
  },
  {
   "cell_type": "code",
   "execution_count": 118,
   "metadata": {},
   "outputs": [],
   "source": [
    "@torch.no_grad()\n",
    "def prepare_submission(test_dl):\n",
    "    output = []\n",
    "\n",
    "    for __, batch in enumerate(iter(test_dl)):\n",
    "        x = batch\n",
    "        model.eval()\n",
    "        prediction = model(x)\n",
    "        # print(prediction.shape)\n",
    "        output.extend(prediction.cpu().tolist())\n",
    "    return output\n"
   ]
  },
  {
   "cell_type": "code",
   "execution_count": 119,
   "metadata": {},
   "outputs": [
    {
     "name": "stdout",
     "output_type": "stream",
     "text": [
      "43442\n",
      "43442\n"
     ]
    }
   ],
   "source": [
    "# Prepare output\n",
    "output = prepare_submission(test_dl)\n",
    "output = torch.FloatTensor(output)\n",
    "output = torch.argmax(output, dim=1)\n",
    "test_image_paths = sorted(\n",
    "    glob(TEST_DATA_DIR + \"/\" + \"*.jpg\"),\n",
    "    key=lambda x: int(os.path.splitext(os.path.basename(x))[0]),\n",
    ")\n",
    "test_images = [os.path.basename(x) for x in test_image_paths]\n",
    "# print(test_images[:5])\n",
    "# print(output[:5])\n",
    "print(len(output))\n",
    "print(len(test_images))"
   ]
  },
  {
   "cell_type": "code",
   "execution_count": 120,
   "metadata": {},
   "outputs": [],
   "source": [
    "# Prepare csv\n",
    "csv_file_path = \"../submission.csv\"\n",
    "with open(csv_file_path, \"w\", newline=\"\") as f:\n",
    "    w = csv.writer(f)\n",
    "\n",
    "    # Check for empty csv\n",
    "    if os.stat(csv_file_path).st_size == 0:\n",
    "        # First header row\n",
    "        csv_row = [\"id\", \"label\"]\n",
    "        w.writerow(csv_row)\n",
    "\n",
    "    for i in range(len(output)):\n",
    "        csv_row = [str(test_images[i]), float(output[i])]\n",
    "        w.writerow(csv_row)\n"
   ]
  },
  {
   "cell_type": "code",
   "execution_count": null,
   "metadata": {},
   "outputs": [],
   "source": []
  }
 ],
 "metadata": {
  "kernelspec": {
   "display_name": "AptivCV",
   "language": "python",
   "name": "python3"
  },
  "language_info": {
   "codemirror_mode": {
    "name": "ipython",
    "version": 3
   },
   "file_extension": ".py",
   "mimetype": "text/x-python",
   "name": "python",
   "nbconvert_exporter": "python",
   "pygments_lexer": "ipython3",
   "version": "3.9.15"
  },
  "orig_nbformat": 4,
  "vscode": {
   "interpreter": {
    "hash": "93bf447d1c99ef97d0a581a6b1613ec5f4169b443f309f05a70970be609eff92"
   }
  }
 },
 "nbformat": 4,
 "nbformat_minor": 2
}
